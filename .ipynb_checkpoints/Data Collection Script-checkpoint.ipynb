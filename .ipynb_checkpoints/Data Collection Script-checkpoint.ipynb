{
 "cells": [
  {
   "cell_type": "markdown",
   "metadata": {},
   "source": [
    "# Automating Data Download Using Selenium\n",
    "Steps:\n",
    "1. Install Selenium using conda-forge: conda install -c conda-forge selenium\n",
    "2. "
   ]
  },
  {
   "cell_type": "code",
   "execution_count": 21,
   "metadata": {},
   "outputs": [
    {
     "name": "stdout",
     "output_type": "stream",
     "text": [
      "\n",
      "Checking for win32 chromedriver:2.46 in cache\n",
      "There is no cached driver. Downloading new one...\n",
      "Trying to download new driver from http://chromedriver.storage.googleapis.com/2.46/chromedriver_win32.zip\n",
      "Unpack archive C:\\Users\\Dell\\.wdm\\chromedriver\\2.46\\win32\\chromedriver.zip\n"
     ]
    }
   ],
   "source": [
    "from selenium import webdriver\n",
    "from webdriver_manager.chrome import ChromeDriverManager\n",
    "\n",
    "driver= webdriver.Chrome(ChromeDriverManager().install())"
   ]
  },
  {
   "cell_type": "code",
   "execution_count": 23,
   "metadata": {},
   "outputs": [],
   "source": [
    "url= \"http://www.india-wris.nrsc.gov.in/GWL/GWL.html?UType=R2VuZXJhbA==?UName=\""
   ]
  },
  {
   "cell_type": "code",
   "execution_count": null,
   "metadata": {},
   "outputs": [],
   "source": []
  }
 ],
 "metadata": {
  "kernelspec": {
   "display_name": "Python 3",
   "language": "python",
   "name": "python3"
  },
  "language_info": {
   "codemirror_mode": {
    "name": "ipython",
    "version": 3
   },
   "file_extension": ".py",
   "mimetype": "text/x-python",
   "name": "python",
   "nbconvert_exporter": "python",
   "pygments_lexer": "ipython3",
   "version": "3.6.5"
  }
 },
 "nbformat": 4,
 "nbformat_minor": 2
}
