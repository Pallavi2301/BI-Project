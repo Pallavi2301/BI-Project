{
 "cells": [
  {
   "cell_type": "markdown",
   "metadata": {},
   "source": [
    "# Automating Data Download Using Selenium\n",
    "Steps:\n",
    "1. Install Selenium using conda-forge: conda install -c conda-forge selenium\n",
    "2. pip install webdriver-manager"
   ]
  },
  {
   "cell_type": "code",
   "execution_count": 5,
   "metadata": {},
   "outputs": [
    {
     "name": "stdout",
     "output_type": "stream",
     "text": [
      "\n",
      "Checking for win32 chromedriver:2.46 in cache\n",
      "Driver found in C:\\Users\\Dell\\.wdm\\chromedriver\\2.46\\win32/chromedriver.exe\n"
     ]
    }
   ],
   "source": [
    "from selenium import webdriver\n",
    "from webdriver_manager.chrome import ChromeDriverManager\n",
    "from selenium.webdriver.support.ui import Select\n",
    "import time\n",
    "\n",
    "driver= webdriver.Chrome(ChromeDriverManager().install())"
   ]
  },
  {
   "cell_type": "code",
   "execution_count": 6,
   "metadata": {},
   "outputs": [],
   "source": [
    "url= \"http://www.india-wris.nrsc.gov.in/GWL/GWL.html?UType=R2VuZXJhbA==?UName=\""
   ]
  },
  {
   "cell_type": "code",
   "execution_count": 7,
   "metadata": {},
   "outputs": [],
   "source": [
    "driver.implicitly_wait(30)\n",
    "driver.get(url)"
   ]
  },
  {
   "cell_type": "code",
   "execution_count": 8,
   "metadata": {
    "scrolled": false
   },
   "outputs": [],
   "source": [
    "#Store State Dropdown Names in a list\n",
    "states= Select(driver.find_element_by_id(\"State_combo\"))\n",
    "stateNames=states.options\n",
    "\n",
    "for index in range(1, len(stateNames)):\n",
    "    states.select_by_index(index)\n",
    "    time.sleep(30)\n",
    "    districts=Select(driver.find_element_by_id(\"district_combo\"))\n",
    "    districtNames=districts.options\n",
    "    for index2 in range(1, len(districtNames)):\n",
    "        districts.select_by_index(index2)\n",
    "        time.sleep(30)\n",
    "        dataDownloadButton=  driver.find_element_by_id('datadownload_butt')\n",
    "        dataDownloadButton.click()\n",
    "        driver.implicitly_wait(30)    "
   ]
  },
  {
   "cell_type": "code",
   "execution_count": 9,
   "metadata": {},
   "outputs": [],
   "source": [
    "driver.quit()"
   ]
  },
  {
   "cell_type": "code",
   "execution_count": null,
   "metadata": {},
   "outputs": [],
   "source": []
  }
 ],
 "metadata": {
  "kernelspec": {
   "display_name": "Python 3",
   "language": "python",
   "name": "python3"
  },
  "language_info": {
   "codemirror_mode": {
    "name": "ipython",
    "version": 3
   },
   "file_extension": ".py",
   "mimetype": "text/x-python",
   "name": "python",
   "nbconvert_exporter": "python",
   "pygments_lexer": "ipython3",
   "version": "3.6.5"
  }
 },
 "nbformat": 4,
 "nbformat_minor": 2
}
