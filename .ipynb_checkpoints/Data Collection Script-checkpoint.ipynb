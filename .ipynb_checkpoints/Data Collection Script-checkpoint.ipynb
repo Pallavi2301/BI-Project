{
 "cells": [
  {
   "cell_type": "markdown",
   "metadata": {},
   "source": [
    "# Automating Data Download Using Selenium\n",
    "Steps:\n",
    "1. Install Selenium using conda-forge: conda install -c conda-forge selenium\n",
    "2. pip install webdriver-manager"
   ]
  },
  {
   "cell_type": "code",
   "execution_count": 99,
   "metadata": {},
   "outputs": [
    {
     "name": "stdout",
     "output_type": "stream",
     "text": [
      "\n",
      "Checking for win32 chromedriver:2.46 in cache\n",
      "Driver found in C:\\Users\\Dell\\.wdm\\chromedriver\\2.46\\win32/chromedriver.exe\n"
     ]
    }
   ],
   "source": [
    "from selenium import webdriver\n",
    "from webdriver_manager.chrome import ChromeDriverManager\n",
    "from selenium.webdriver.support.ui import Select\n",
    "from selenium.common.exceptions import NoSuchElementException\n",
    "from selenium.common.exceptions import StaleElementReferenceException\n",
    "from selenium.webdriver.common.by import By\n",
    "from selenium.webdriver.support.ui import WebDriverWait\n",
    "from selenium.webdriver.support import expected_conditions\n",
    "\n",
    "\n",
    "driver= webdriver.Chrome(ChromeDriverManager().install())"
   ]
  },
  {
   "cell_type": "code",
   "execution_count": 100,
   "metadata": {},
   "outputs": [],
   "source": [
    "url= \"http://www.india-wris.nrsc.gov.in/GWL/GWL.html?UType=R2VuZXJhbA==?UName=\""
   ]
  },
  {
   "cell_type": "code",
   "execution_count": 101,
   "metadata": {},
   "outputs": [],
   "source": [
    "driver.get(url)"
   ]
  },
  {
   "cell_type": "code",
   "execution_count": 114,
   "metadata": {
    "scrolled": true
   },
   "outputs": [
    {
     "ename": "SyntaxError",
     "evalue": "invalid syntax (<ipython-input-114-640a5813293f>, line 16)",
     "output_type": "error",
     "traceback": [
      "\u001b[1;36m  File \u001b[1;32m\"<ipython-input-114-640a5813293f>\"\u001b[1;36m, line \u001b[1;32m16\u001b[0m\n\u001b[1;33m    districts.select_by_value(your_element)\u001b[0m\n\u001b[1;37m            ^\u001b[0m\n\u001b[1;31mSyntaxError\u001b[0m\u001b[1;31m:\u001b[0m invalid syntax\n"
     ]
    }
   ],
   "source": [
    "#Select District Radio Button\n",
    "#districtRadioButton= driver.find_element_by_id('redio_butt')\n",
    "#districtRadioButton.click()\n",
    "\n",
    "#Store State Dropdown Names in a list\n",
    "states= Select(driver.find_element_by_id(\"State_combo\"))\n",
    "stateNames=states.options\n",
    "\n",
    "ignored_exceptions=(NoSuchElementException,StaleElementReferenceException,)\n",
    "for index in range(1, len(stateNames)):\n",
    "    states.select_by_index(index)\n",
    "    districts=Select(driver.find_element_by_id(\"district_combo\"))\n",
    "    districtNames=districts.options\n",
    "    for index2 in range(1, len(districtNames)):\n",
    "        your_element = WebDriverWait(driver, 10,ignored_exceptions=ignored_exceptions).until(expected_conditions.presence_of_element_located((By.NAME, str(districtNames[index2])))\n",
    "        districts.select_by_value(your_element)\n",
    "        dataDownloadButton=  driver.find_element_by_id('datadownload_butt')\n",
    "        dataDownloadButton.click()\n",
    "        driver.implicitly_wait(30)\n",
    "    "
   ]
  },
  {
   "cell_type": "code",
   "execution_count": 98,
   "metadata": {},
   "outputs": [],
   "source": [
    "driver.quit()"
   ]
  },
  {
   "cell_type": "code",
   "execution_count": null,
   "metadata": {},
   "outputs": [],
   "source": []
  }
 ],
 "metadata": {
  "kernelspec": {
   "display_name": "Python 3",
   "language": "python",
   "name": "python3"
  },
  "language_info": {
   "codemirror_mode": {
    "name": "ipython",
    "version": 3
   },
   "file_extension": ".py",
   "mimetype": "text/x-python",
   "name": "python",
   "nbconvert_exporter": "python",
   "pygments_lexer": "ipython3",
   "version": "3.6.5"
  }
 },
 "nbformat": 4,
 "nbformat_minor": 2
}
