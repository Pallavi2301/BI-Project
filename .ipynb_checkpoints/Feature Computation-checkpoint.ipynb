{
 "cells": [
  {
   "cell_type": "code",
   "execution_count": 1,
   "metadata": {},
   "outputs": [],
   "source": [
    "import pandas as pd"
   ]
  },
  {
   "cell_type": "code",
   "execution_count": 5,
   "metadata": {},
   "outputs": [
    {
     "ename": "SyntaxError",
     "evalue": "(unicode error) 'unicodeescape' codec can't decode bytes in position 2-3: truncated \\UXXXXXXXX escape (<ipython-input-5-d1e487e7ae3f>, line 2)",
     "output_type": "error",
     "traceback": [
      "\u001b[1;36m  File \u001b[1;32m\"<ipython-input-5-d1e487e7ae3f>\"\u001b[1;36m, line \u001b[1;32m2\u001b[0m\n\u001b[1;33m    f1=pd.read_csv(\"C:\\Users\\Lavannya\\Desktop\\BI project\\Data.csv\")\u001b[0m\n\u001b[1;37m                  ^\u001b[0m\n\u001b[1;31mSyntaxError\u001b[0m\u001b[1;31m:\u001b[0m (unicode error) 'unicodeescape' codec can't decode bytes in position 2-3: truncated \\UXXXXXXXX escape\n"
     ]
    }
   ],
   "source": [
    "#load the csv file of dataset into dataframe\n",
    "f1=pd.read_csv(\"C:\\Users\\Lavannya\\Desktop\\BI project\\Data.csv\")\n",
    "f1"
   ]
  },
  {
   "cell_type": "markdown",
   "metadata": {},
   "source": [
    "Feature computation"
   ]
  },
  {
   "cell_type": "code",
   "execution_count": null,
   "metadata": {},
   "outputs": [],
   "source": [
    "#creating the new attribute POM_Recharge\n",
    "f1['POM_Recharge'] = (f1['MONSOON']).astype(float) - (f1['PREMON']).astype(float)\n",
    "\n",
    "#print the updated dataframe\n",
    "f1"
   ]
  },
  {
   "cell_type": "code",
   "execution_count": null,
   "metadata": {},
   "outputs": [],
   "source": [
    "#creating the new attribute RB_Effect\n",
    "f1['RB_Effect'] = (f1['POMRB']).astype(float) - (f1['MONSOON']).astype(float)\n",
    "\n",
    "#print the updated dataframe\n",
    "f1"
   ]
  },
  {
   "cell_type": "code",
   "execution_count": null,
   "metadata": {},
   "outputs": [],
   "source": [
    "#creating the new attribute KH_Effect\n",
    "f1['KH_Effect'] = (f1['POMKH']).astype(float) - (f1['MONSOON']).astype(float)\n",
    "\n",
    "#print the updated dataframe\n",
    "f1"
   ]
  },
  {
   "cell_type": "code",
   "execution_count": null,
   "metadata": {},
   "outputs": [],
   "source": [
    "f1.to_csv(\"Data\\PostComputationData.csv\",index=False,encoding='utf-8-sig')"
   ]
  },
  {
   "cell_type": "code",
   "execution_count": null,
   "metadata": {},
   "outputs": [],
   "source": []
  }
 ],
 "metadata": {
  "kernelspec": {
   "display_name": "Python 3",
   "language": "python",
   "name": "python3"
  },
  "language_info": {
   "codemirror_mode": {
    "name": "ipython",
    "version": 3
   },
   "file_extension": ".py",
   "mimetype": "text/x-python",
   "name": "python",
   "nbconvert_exporter": "python",
   "pygments_lexer": "ipython3",
   "version": "3.7.1"
  }
 },
 "nbformat": 4,
 "nbformat_minor": 2
}
