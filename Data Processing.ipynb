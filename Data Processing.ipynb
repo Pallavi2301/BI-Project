{
 "cells": [
  {
   "cell_type": "markdown",
   "metadata": {},
   "source": [
    "This script combines the different csv files of data and forms a single csv file sorted according to the year"
   ]
  },
  {
   "cell_type": "code",
   "execution_count": 1,
   "metadata": {},
   "outputs": [],
   "source": [
    "import os\n",
    "import glob\n",
    "import pandas as pd\n",
    "os.chdir(\"Data\")"
   ]
  },
  {
   "cell_type": "code",
   "execution_count": 2,
   "metadata": {},
   "outputs": [],
   "source": [
    "extension = 'csv'\n",
    "all_filenames = [i for i in glob.glob('*.{}'.format(extension))]"
   ]
  },
  {
   "cell_type": "code",
   "execution_count": 13,
   "metadata": {
    "scrolled": true
   },
   "outputs": [
    {
     "name": "stdout",
     "output_type": "stream",
     "text": [
      "569\n"
     ]
    }
   ],
   "source": [
    "#print(len(all_filenames))"
   ]
  },
  {
   "cell_type": "code",
   "execution_count": 6,
   "metadata": {},
   "outputs": [],
   "source": [
    "ls=[pd.read_csv(f) for f in all_filenames]\n",
    "df=pd.concat(ls)"
   ]
  },
  {
   "cell_type": "code",
   "execution_count": 7,
   "metadata": {},
   "outputs": [
    {
     "name": "stdout",
     "output_type": "stream",
     "text": [
      "(357880, 14)\n"
     ]
    }
   ],
   "source": [
    "print(df.shape)\n",
    "#print(df.head)\n",
    "#print(df.describe)\n",
    "#print(df.head)\n",
    "#df.columns=df.columns.str.strip() #to remove white space in columns\n",
    "#print(df.columns)\n",
    "#df=df.sort_values(by=['STATE', 'DISTRICT', 'WLCODE'], axis=0)"
   ]
  },
  {
   "cell_type": "code",
   "execution_count": 8,
   "metadata": {},
   "outputs": [],
   "source": [
    "#export to csv\n",
    "df.to_csv( \"CombinedData.csv\", index=False, encoding='utf-8-sig')"
   ]
  },
  {
   "cell_type": "code",
   "execution_count": 9,
   "metadata": {},
   "outputs": [],
   "source": [
    "df=pd.read_csv(\"CombinedData.csv\")"
   ]
  },
  {
   "cell_type": "code",
   "execution_count": 10,
   "metadata": {},
   "outputs": [],
   "source": [
    "df.columns=df.columns.str.strip() #to remove white space in columns\n",
    "df=df.sort_values(by=['YEAR_OBS','STATE', 'DISTRICT', 'WLCODE'], axis=0)"
   ]
  },
  {
   "cell_type": "code",
   "execution_count": 11,
   "metadata": {
    "scrolled": true
   },
   "outputs": [
    {
     "data": {
      "text/html": [
       "<div>\n",
       "<style scoped>\n",
       "    .dataframe tbody tr th:only-of-type {\n",
       "        vertical-align: middle;\n",
       "    }\n",
       "\n",
       "    .dataframe tbody tr th {\n",
       "        vertical-align: top;\n",
       "    }\n",
       "\n",
       "    .dataframe thead th {\n",
       "        text-align: right;\n",
       "    }\n",
       "</style>\n",
       "<table border=\"1\" class=\"dataframe\">\n",
       "  <thead>\n",
       "    <tr style=\"text-align: right;\">\n",
       "      <th></th>\n",
       "      <th>STATE</th>\n",
       "      <th>DISTRICT</th>\n",
       "      <th>TEH_NAME</th>\n",
       "      <th>BLOCK_NAME</th>\n",
       "      <th>LAT</th>\n",
       "      <th>LON</th>\n",
       "      <th>SITE_NAME</th>\n",
       "      <th>SITE_TYPE</th>\n",
       "      <th>WLCODE</th>\n",
       "      <th>YEAR_OBS</th>\n",
       "      <th>MONSOON</th>\n",
       "      <th>POMRB</th>\n",
       "      <th>POMKH</th>\n",
       "      <th>PREMON</th>\n",
       "    </tr>\n",
       "  </thead>\n",
       "  <tbody>\n",
       "    <tr>\n",
       "      <th>79074</th>\n",
       "      <td>HR</td>\n",
       "      <td>Mahendragarh</td>\n",
       "      <td>Behror</td>\n",
       "      <td>Ateli</td>\n",
       "      <td>28.062500</td>\n",
       "      <td>76.250000</td>\n",
       "      <td>Kanhawas</td>\n",
       "      <td>Tube Well</td>\n",
       "      <td>W13605</td>\n",
       "      <td>1994</td>\n",
       "      <td>29.97</td>\n",
       "      <td>'0</td>\n",
       "      <td>29.23</td>\n",
       "      <td>'0</td>\n",
       "    </tr>\n",
       "    <tr>\n",
       "      <th>84137</th>\n",
       "      <td>JK</td>\n",
       "      <td>Data Not Available</td>\n",
       "      <td>Akhnoor</td>\n",
       "      <td>Akhnoor</td>\n",
       "      <td>32.850000</td>\n",
       "      <td>74.454167</td>\n",
       "      <td>Palanwala</td>\n",
       "      <td>Dug Well</td>\n",
       "      <td>W01683</td>\n",
       "      <td>1994</td>\n",
       "      <td>1.17</td>\n",
       "      <td>1.35</td>\n",
       "      <td>1.52</td>\n",
       "      <td>'0</td>\n",
       "    </tr>\n",
       "    <tr>\n",
       "      <th>85480</th>\n",
       "      <td>JK</td>\n",
       "      <td>Jammu</td>\n",
       "      <td>Akhnoor</td>\n",
       "      <td>Akhnoor</td>\n",
       "      <td>32.805556</td>\n",
       "      <td>74.562500</td>\n",
       "      <td>Bakore</td>\n",
       "      <td>Dug Well</td>\n",
       "      <td>W01674</td>\n",
       "      <td>1994</td>\n",
       "      <td>2.73</td>\n",
       "      <td>4.17</td>\n",
       "      <td>3.76</td>\n",
       "      <td>'0</td>\n",
       "    </tr>\n",
       "    <tr>\n",
       "      <th>85491</th>\n",
       "      <td>JK</td>\n",
       "      <td>Jammu</td>\n",
       "      <td>Akhnoor</td>\n",
       "      <td>Akhnoor</td>\n",
       "      <td>32.855556</td>\n",
       "      <td>74.658333</td>\n",
       "      <td>Devipura</td>\n",
       "      <td>Dug Well</td>\n",
       "      <td>W01676</td>\n",
       "      <td>1994</td>\n",
       "      <td>3.32</td>\n",
       "      <td>6.26</td>\n",
       "      <td>5.3</td>\n",
       "      <td>'0</td>\n",
       "    </tr>\n",
       "    <tr>\n",
       "      <th>85481</th>\n",
       "      <td>JK</td>\n",
       "      <td>Jammu</td>\n",
       "      <td>Akhnoor</td>\n",
       "      <td>Akhnoor</td>\n",
       "      <td>32.806944</td>\n",
       "      <td>74.541111</td>\n",
       "      <td>Dhanpur</td>\n",
       "      <td>Dug Well</td>\n",
       "      <td>W01677</td>\n",
       "      <td>1994</td>\n",
       "      <td>2.49</td>\n",
       "      <td>4.49</td>\n",
       "      <td>3.68</td>\n",
       "      <td>'0</td>\n",
       "    </tr>\n",
       "  </tbody>\n",
       "</table>\n",
       "</div>"
      ],
      "text/plain": [
       "      STATE            DISTRICT TEH_NAME BLOCK_NAME        LAT        LON  \\\n",
       "79074    HR        Mahendragarh   Behror      Ateli  28.062500  76.250000   \n",
       "84137    JK  Data Not Available  Akhnoor    Akhnoor  32.850000  74.454167   \n",
       "85480    JK               Jammu  Akhnoor    Akhnoor  32.805556  74.562500   \n",
       "85491    JK               Jammu  Akhnoor    Akhnoor  32.855556  74.658333   \n",
       "85481    JK               Jammu  Akhnoor    Akhnoor  32.806944  74.541111   \n",
       "\n",
       "       SITE_NAME  SITE_TYPE  WLCODE  YEAR_OBS MONSOON POMRB  POMKH PREMON  \n",
       "79074   Kanhawas  Tube Well  W13605      1994   29.97    '0  29.23     '0  \n",
       "84137  Palanwala   Dug Well  W01683      1994    1.17  1.35   1.52     '0  \n",
       "85480     Bakore   Dug Well  W01674      1994    2.73  4.17   3.76     '0  \n",
       "85491   Devipura   Dug Well  W01676      1994    3.32  6.26    5.3     '0  \n",
       "85481    Dhanpur   Dug Well  W01677      1994    2.49  4.49   3.68     '0  "
      ]
     },
     "execution_count": 11,
     "metadata": {},
     "output_type": "execute_result"
    }
   ],
   "source": [
    "df.head()"
   ]
  },
  {
   "cell_type": "code",
   "execution_count": 12,
   "metadata": {},
   "outputs": [],
   "source": [
    "df.drop(df[df['YEAR_OBS'] < 1996].index, inplace = True) "
   ]
  },
  {
   "cell_type": "code",
   "execution_count": 13,
   "metadata": {},
   "outputs": [
    {
     "data": {
      "text/plain": [
       "(355279, 14)"
      ]
     },
     "execution_count": 13,
     "metadata": {},
     "output_type": "execute_result"
    }
   ],
   "source": [
    "df.head\n",
    "df.shape"
   ]
  },
  {
   "cell_type": "code",
   "execution_count": 14,
   "metadata": {},
   "outputs": [],
   "source": [
    "df.to_csv(\"Data.csv\", index=False, encoding='utf-8-sig')"
   ]
  },
  {
   "cell_type": "code",
   "execution_count": null,
   "metadata": {},
   "outputs": [],
   "source": []
  }
 ],
 "metadata": {
  "kernelspec": {
   "display_name": "Python 3",
   "language": "python",
   "name": "python3"
  },
  "language_info": {
   "codemirror_mode": {
    "name": "ipython",
    "version": 3
   },
   "file_extension": ".py",
   "mimetype": "text/x-python",
   "name": "python",
   "nbconvert_exporter": "python",
   "pygments_lexer": "ipython3",
   "version": "3.6.5"
  }
 },
 "nbformat": 4,
 "nbformat_minor": 2
}
